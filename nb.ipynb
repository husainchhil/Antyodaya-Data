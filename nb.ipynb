{
  "cells": [
    {
      "cell_type": "code",
      "execution_count": null,
      "metadata": {
        "id": "0V655aHSwbI1"
      },
      "outputs": [],
      "source": [
        "import numpy as np\n",
        "import pandas as pd\n",
        "import seaborn as sns\n",
        "import matplotlib.pyplot as plt\n",
        "import statsmodels.stats.multicomp as mc\n",
        "from statsmodels.formula.api import ols\n",
        "from statsmodels.multivariate.manova import MANOVA\n",
        "import statsmodels.api as sm\n",
        "import scipy.stats as stats\n",
        "from tqdm import tqdm\n",
        "from sklearn.model_selection import train_test_split\n",
        "from sklearn.ensemble import RandomForestRegressor\n",
        "from sklearn.linear_model import LinearRegression, ElasticNet, Ridge, Lasso\n",
        "from sklearn.metrics import mean_squared_error\n",
        "import re\n",
        "from joblib import dump,load"
      ]
    },
    {
      "cell_type": "code",
      "execution_count": null,
      "metadata": {
        "id": "3V9ASZ3o1Cn3"
      },
      "outputs": [],
      "source": [
        "def get_var_name(var):\n",
        "    for name, value in globals().items():\n",
        "        if value is var:\n",
        "            return name"
      ]
    },
    {
      "cell_type": "code",
      "execution_count": null,
      "metadata": {
        "id": "SCHCnB-uwbI3"
      },
      "outputs": [],
      "source": [
        "df_main=pd.read_csv(r'village_wise_survey_data_mission_antyodaya_2020.csv')"
      ]
    },
    {
      "cell_type": "code",
      "execution_count": null,
      "metadata": {
        "colab": {
          "base_uri": "https://localhost:8080/",
          "height": 568
        },
        "id": "Y28J73duwbI4",
        "outputId": "62a9245f-e666-41aa-e057-6f43008c6924"
      },
      "outputs": [],
      "source": [
        "df_main.drop(columns=[\"SUB DISTRICT CODE\",\"BLOCK CODE\",\"GP CODE\",\"VILLAGE CODE\",\"VILLAGE PIN CODE\",\"STATE NAME\", \"DISTRICT NAME\",\"SUB DISTRICT NAME\",\"BLOCK NAME\",\"GP NAME\",\"VILLAGE NAME\",\"PC CODE\",\"AC CODE\",\"OTHER ASSEMBLY CONSTITUENCIES\",\"NUMBER OF HOUSEHOLDS ENGAGED MAJORLY IN NON-FARM ACTIVITIES\"],\n",
        "             inplace=True)\n",
        "df_main.head()"
      ]
    },
    {
      "cell_type": "code",
      "execution_count": null,
      "metadata": {
        "colab": {
          "base_uri": "https://localhost:8080/"
        },
        "id": "Rsy4KKuWwbI5",
        "outputId": "9da54eeb-d561-459b-cb60-3bbac8cc154b"
      },
      "outputs": [],
      "source": [
        "cols=df_main.columns.tolist()\n",
        "for i in range(len(cols)):\n",
        "    if cols[i]==\"DOES THE VILLAGE HAVE LIVESTOCK EXTENSION SERVICES\":\n",
        "        print(i)\n",
        "        endcol=i"
      ]
    },
    {
      "cell_type": "code",
      "execution_count": null,
      "metadata": {
        "colab": {
          "base_uri": "https://localhost:8080/"
        },
        "id": "uzfuoHkLwbI6",
        "outputId": "8a211b06-ac2a-40d2-8df7-b0f5119ffb2b"
      },
      "outputs": [],
      "source": [
        "df_main.columns.to_list()"
      ]
    },
    {
      "cell_type": "code",
      "execution_count": null,
      "metadata": {
        "id": "u-uWWE4owbI6"
      },
      "outputs": [],
      "source": [
        "df=df_main.iloc[:,:endcol]"
      ]
    },
    {
      "cell_type": "code",
      "execution_count": null,
      "metadata": {
        "colab": {
          "base_uri": "https://localhost:8080/",
          "height": 742
        },
        "id": "MralS587wbI6",
        "outputId": "a9d799cb-27f9-4a17-fe35-a0b54e7aa211"
      },
      "outputs": [],
      "source": [
        "df.head()"
      ]
    },
    {
      "cell_type": "code",
      "execution_count": null,
      "metadata": {
        "id": "pdgZ4vsSwbI7"
      },
      "outputs": [],
      "source": [
        "cols=df.columns.tolist()\n",
        "\n",
        "\n",
        "df[\"Percentage_Of_Farming_Houses\"]=df[\"NUMBER OF HOUSEHOLDS ENGAGED MAJORLY IN FARM ACTIVITIES\"]/(df[\"NUMBER OF TOTAL HOUSEHOLD\"])\n",
        "df[\"DOES THE VILLAGE HAS ANY FARMERS COLLECTIVE\"]=df[\"DOES THE VILLAGE HAS ANY FARMERS COLLECTIVE\"].map({\"Primary Agriculture Cooperative Society(PACS)\":\"PACS\",\"Farmers Produce Organization(FPOs)\":\"FPO\",\"Both\":\"Both\"})\n",
        "df[\"MAIN SOURCE OF IRRIGATION\"]=df[\"MAIN SOURCE OF IRRIGATION\"].map({\"Ground water (tube well/well/pump)\":\"Ground Water\",\"Other\":\"Other\",\"Canals\":\"Canals\",\"Surface Water\":\"Surface Water\"})\n"
      ]
    },
    {
      "cell_type": "code",
      "execution_count": null,
      "metadata": {
        "colab": {
          "base_uri": "https://localhost:8080/"
        },
        "id": "K-ZHxHscwbI7",
        "outputId": "489f43ba-708d-4c34-a9b0-d912209b2d23"
      },
      "outputs": [],
      "source": [
        "for i in tqdm(range(len(df))):\n",
        "    string = str(df[\"NET SOWN AREA (IN HECTARES) , IF IN ACRES DIVIDE BY 2.47\"][i])\n",
        "    numbers = re.findall(r'\\d+\\.*\\d*', string)\n",
        "\n",
        "    df.loc[i,'Area'] =numbers[0]\n",
        "    df.loc[i,'Kharif'] =numbers[1]\n",
        "    df.loc[i,'Rabi'] =numbers[2]\n",
        "    df.loc[i,'Others'] =numbers[3]"
      ]
    },
    {
      "cell_type": "code",
      "execution_count": null,
      "metadata": {
        "id": "WQ4bBLpgwbI8"
      },
      "outputs": [],
      "source": [
        "cols = ['availability of warehouse for food grain storage ','availability of soil testing centres','availability of fertilizer shop']\n",
        "dic = dict(zip(df['availability of fertilizer shop'.upper()].value_counts().index.to_list(),['>10','5-10','2-5','Yes','1-2','<1']))\n",
        "\n",
        "\n",
        "for col in cols:\n",
        "    col=col.upper()\n",
        "    df[col] = df[col].map(dic)\n",
        "\n",
        "\n",
        "df=df.drop(columns=\"NET SOWN AREA (IN HECTARES) , IF IN ACRES DIVIDE BY 2.47\")"
      ]
    },
    {
      "cell_type": "code",
      "execution_count": null,
      "metadata": {
        "id": "tyONixEwwbI8"
      },
      "outputs": [],
      "source": [
        "cols = df.columns.to_list()\n",
        "new_cols = [re.sub(r'[^a-zA-Z0-9_]' , '_', a.strip().lower()) for a in cols]\n",
        "df.rename(columns=dict(zip(cols, new_cols)), inplace=True)\n",
        "df.rename(columns=dict(zip(cols, new_cols)), inplace=True)\n",
        "df.rename(columns={'total_area_irrigated__in_hectare___if_in_acres_divide_by_2_47': 'total_area_irrigated__in_hectare'},inplace=True)\n",
        "df.rename(columns={'total_unirrigated_land_area__in_hectares___if_in_acres_divide_by_2_47': 'total_unirrigated_land_area__in_hectares'},inplace=True)"
      ]
    },
    {
      "cell_type": "code",
      "execution_count": null,
      "metadata": {
        "colab": {
          "base_uri": "https://localhost:8080/"
        },
        "id": "FCIrfe2IwbI9",
        "outputId": "b7de6ef1-0b0a-461e-ca22-62e41fcb1986"
      },
      "outputs": [],
      "source": [
        "for col in df.columns:\n",
        "    if df[col].isna().sum()!=0:\n",
        "        print(col)"
      ]
    },
    {
      "cell_type": "code",
      "execution_count": null,
      "metadata": {
        "id": "WcITns7xwbI9"
      },
      "outputs": [],
      "source": [
        "df.fillna('None',inplace=True)"
      ]
    },
    {
      "cell_type": "code",
      "execution_count": null,
      "metadata": {
        "id": "nYsx9yVCwbI9"
      },
      "outputs": [],
      "source": [
        "for col in df.columns:\n",
        "    if df[col].isna().sum()!=0:\n",
        "        print(col)"
      ]
    },
    {
      "cell_type": "code",
      "execution_count": null,
      "metadata": {
        "id": "iwGwnYyGwbI-"
      },
      "outputs": [],
      "source": [
        "df.to_csv(\"Agriculture.csv\", index=False)"
      ]
    },
    {
      "cell_type": "code",
      "execution_count": null,
      "metadata": {
        "colab": {
          "base_uri": "https://localhost:8080/",
          "height": 256
        },
        "id": "JOdA2pONwbI-",
        "outputId": "acf8069c-17a5-43ea-9393-eeb3e140e82f"
      },
      "outputs": [],
      "source": [
        "df=pd.read_csv(\"Agriculture.csv\")\n",
        "df.head()"
      ]
    },
    {
      "cell_type": "code",
      "execution_count": null,
      "metadata": {
        "id": "B7akSnV2wbI-"
      },
      "outputs": [],
      "source": [
        "string = \"+\".join(df.drop('number_of_households_engaged_majorly_in_farm_activities',axis=1).columns.to_list())"
      ]
    },
    {
      "cell_type": "code",
      "execution_count": null,
      "metadata": {
        "colab": {
          "base_uri": "https://localhost:8080/",
          "height": 105
        },
        "id": "zJnCVys8wbI-",
        "outputId": "6036a300-77c0-42b0-f08f-ab975c7def47"
      },
      "outputs": [],
      "source": [
        "string"
      ]
    },
    {
      "cell_type": "code",
      "execution_count": null,
      "metadata": {
        "id": "hMMEb89bwbI_"
      },
      "outputs": [],
      "source": [
        "fit1 = ols(f'number_of_households_engaged_majorly_in_farm_activities~{string}',data=df).fit()\n",
        "p_value = sm.stats.anova_lm(fit1,typ=1)"
      ]
    },
    {
      "cell_type": "code",
      "execution_count": null,
      "metadata": {
        "id": "4gl0aKKCwbI_"
      },
      "outputs": [],
      "source": [
        "p_value_sig=p_value[p_value['PR(>F)']<0.05].sort_values(by='PR(>F)', ascending=True)\n",
        "cols_sig=p_value_sig.index.tolist()"
      ]
    },
    {
      "cell_type": "code",
      "execution_count": null,
      "metadata": {
        "colab": {
          "base_uri": "https://localhost:8080/"
        },
        "id": "suMnenj6wbI_",
        "outputId": "ee74e5db-6122-45d3-d415-7807088ec091"
      },
      "outputs": [],
      "source": [
        "cols_sig.append(\"number_of_households_engaged_majorly_in_farm_activities\")\n",
        "cols_sig"
      ]
    },
    {
      "cell_type": "code",
      "execution_count": null,
      "metadata": {
        "colab": {
          "base_uri": "https://localhost:8080/",
          "height": 256
        },
        "id": "XciC_-cbwbJA",
        "outputId": "dd6d4514-d875-4f26-e324-f31ed715d838"
      },
      "outputs": [],
      "source": [
        "df_sig = df[cols_sig]\n",
        "df_sig.head()"
      ]
    },
    {
      "cell_type": "code",
      "execution_count": null,
      "metadata": {
        "colab": {
          "base_uri": "https://localhost:8080/",
          "height": 582
        },
        "id": "q_H_wkK7wbJA",
        "outputId": "82853e51-9ca7-49c9-88b1-e8ba3d198563"
      },
      "outputs": [],
      "source": [
        "df_sig.describe().T"
      ]
    },
    {
      "cell_type": "code",
      "execution_count": null,
      "metadata": {
        "colab": {
          "base_uri": "https://localhost:8080/"
        },
        "id": "kgfq9Wj1wbJA",
        "outputId": "a39f6f6a-1499-4d43-99b8-81a1e9b4f2dc"
      },
      "outputs": [],
      "source": [
        "df_sig.info()"
      ]
    },
    {
      "cell_type": "code",
      "execution_count": null,
      "metadata": {
        "colab": {
          "base_uri": "https://localhost:8080/"
        },
        "id": "WorGdN0WwbJB",
        "outputId": "a15ed7bd-cbc2-47f3-9a68-46a696ba0ac3"
      },
      "outputs": [],
      "source": [
        "for col in df_sig.columns:\n",
        "    if pd.api.types.is_object_dtype(df_sig[col]):\n",
        "\n",
        "        print(df_sig[col].value_counts())\n",
        "        print()"
      ]
    },
    {
      "cell_type": "code",
      "execution_count": null,
      "metadata": {
        "id": "ueafFlOvwbJB"
      },
      "outputs": [],
      "source": [
        "df1 = df_sig.copy()"
      ]
    },
    {
      "cell_type": "code",
      "execution_count": null,
      "metadata": {},
      "outputs": [],
      "source": [
        "dummy_cols = [col for col in df1.columns if pd.api.types.is_object_dtype(df1[col])]\n",
        "dummy_df = pd.get_dummies(df1, columns=dummy_cols)\n",
        "df1 = pd.concat([df1,dummy_df], axis=1)\n",
        "df1.drop(dummy_cols,inplace=True, axis= 1)\n",
        "df1.info()"
      ]
    },
    {
      "cell_type": "code",
      "execution_count": null,
      "metadata": {
        "id": "ZdjSFwXewbJC"
      },
      "outputs": [],
      "source": [
        "X = df1.drop('number_of_households_engaged_majorly_in_farm_activities', axis=1)\n",
        "y = df1['number_of_households_engaged_majorly_in_farm_activities']"
      ]
    },
    {
      "cell_type": "code",
      "execution_count": null,
      "metadata": {
        "id": "FBY9JZNYwbJC"
      },
      "outputs": [],
      "source": [
        "X_train, X_test, y_train, y_test = train_test_split(X,y,test_size=0.2)"
      ]
    },
    {
      "cell_type": "code",
      "execution_count": null,
      "metadata": {},
      "outputs": [],
      "source": [
        "LinearRegression = LinearRegression()\n",
        "Ridge = Ridge()\n",
        "Lasso = Lasso()\n",
        "ElasticNet = ElasticNet()\n",
        "RandomForestRegressor = RandomForestRegressor(n_jobs=-1)"
      ]
    },
    {
      "cell_type": "code",
      "execution_count": null,
      "metadata": {},
      "outputs": [],
      "source": [
        "algos = [LinearRegression ,Ridge ,Lasso, ElasticNet, RandomForestRegressor]"
      ]
    },
    {
      "cell_type": "code",
      "execution_count": null,
      "metadata": {
        "colab": {
          "base_uri": "https://localhost:8080/"
        },
        "id": "bxosTl-M0O90",
        "outputId": "2d4abc62-3ff3-4b2a-9745-39da2e453459"
      },
      "outputs": [],
      "source": [
        "scores = []\n",
        "mses = []\n",
        "algo_names = []\n",
        "\n",
        "for algo in tqdm(algos):\n",
        "    algo.fit(X_train,y_train)\n",
        "    algo_name = get_var_name(algo)\n",
        "    dump(value=algo,filename=f'{algo_name}.joblib')\n",
        "    y_pred = algo.predict(X_test)\n",
        "    acc_score = algo.score(X_test,y_test)\n",
        "    mse = mean_squared_error(y_test,y_pred)\n",
        "    algo_names.append(algo_name)\n",
        "    scores.append(acc_score)\n",
        "    mses.append(mse)\n",
        "\n",
        "algo_scores = pd.DataFrame(\n",
        "    {\n",
        "        'Algorithm' : algo_names,\n",
        "        'Score' : scores,\n",
        "        'MSE' : mses\n",
        "    }\n",
        ")"
      ]
    },
    {
      "cell_type": "code",
      "execution_count": null,
      "metadata": {},
      "outputs": [],
      "source": [
        "scores = []\n",
        "mses = []\n",
        "algo_names = []\n",
        "\n",
        "for alg in tqdm(algos):\n",
        "    algo_name = get_var_name(alg)\n",
        "    algo = load(filename=f'{algo_name}.joblib')\n",
        "    y_pred = algo.predict(X_test)\n",
        "    acc_score = algo.score(X_test,y_test)\n",
        "    mse = mean_squared_error(y_test,y_pred)\n",
        "    algo_names.append(algo_name)\n",
        "    scores.append(acc_score)\n",
        "    mses.append(mse)\n",
        "\n",
        "algo_scores = pd.DataFrame(\n",
        "    {\n",
        "        'Algorithm' : algo_names,\n",
        "        'Score' : scores,\n",
        "        'MSE' : mses\n",
        "    }\n",
        ")"
      ]
    },
    {
      "cell_type": "code",
      "execution_count": null,
      "metadata": {
        "colab": {
          "base_uri": "https://localhost:8080/",
          "height": 482
        },
        "id": "7AdgKADO7Lcs",
        "outputId": "f529c943-8f29-40cf-a3e1-13a9b823adb5"
      },
      "outputs": [],
      "source": [
        "fig, axs = plt.subplots(nrows=2, figsize=(15, 10))\n",
        "sns.barplot(\n",
        "    x='Algorithm',\n",
        "    y='Score',\n",
        "    data=algo_scores,\n",
        "    ax=axs[0],\n",
        "    palette='viridis',\n",
        "    legend=False,\n",
        "    hue='Algorithm'\n",
        ")\n",
        "for i in axs[0].containers:\n",
        "    axs[0].bar_label(i,)\n",
        "sns.barplot(\n",
        "    x='Algorithm',\n",
        "    y='MSE',\n",
        "    data=algo_scores,\n",
        "    ax=axs[1],\n",
        "    palette='mako',\n",
        "    legend=False,\n",
        "    hue='Algorithm'\n",
        ")\n",
        "for i in axs[1].containers:\n",
        "    axs[1].bar_label(i,)\n",
        "plt.show()"
      ]
    },
    {
      "cell_type": "code",
      "execution_count": null,
      "metadata": {},
      "outputs": [],
      "source": [
        "for alg in tqdm(algos):\n",
        "    alg = load(filename=f'{get_var_name(alg)}.joblib')"
      ]
    }
  ],
  "metadata": {
    "colab": {
      "provenance": []
    },
    "kernelspec": {
      "display_name": "Python 3",
      "language": "python",
      "name": "python3"
    },
    "language_info": {
      "codemirror_mode": {
        "name": "ipython",
        "version": 3
      },
      "file_extension": ".py",
      "mimetype": "text/x-python",
      "name": "python",
      "nbconvert_exporter": "python",
      "pygments_lexer": "ipython3",
      "version": "3.12.0"
    }
  },
  "nbformat": 4,
  "nbformat_minor": 0
}
